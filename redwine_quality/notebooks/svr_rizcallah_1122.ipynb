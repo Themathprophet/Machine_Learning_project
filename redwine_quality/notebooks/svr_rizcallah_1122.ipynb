{
 "cells": [
  {
   "cell_type": "code",
   "execution_count": 1,
   "metadata": {},
   "outputs": [],
   "source": [
    "import pandas as pd\n",
    "import numpy as np\n",
    "import matplotlib.pyplot as plt\n",
    "import seaborn as sns\n",
    "\n",
    "from sklearn.svm import SVR\n",
    "from sklearn.model_selection import train_test_split\n",
    "from sklearn.model_selection import GridSearchCV\n",
    "from sklearn.pipeline import Pipeline\n",
    "from sklearn.decomposition import PCA\n",
    "from sklearn.metrics import accuracy_score\n",
    "from sklearn.preprocessing import StandardScaler"
   ]
  },
  {
   "cell_type": "code",
   "execution_count": 2,
   "metadata": {},
   "outputs": [
    {
     "data": {
      "text/html": [
       "<div>\n",
       "<style scoped>\n",
       "    .dataframe tbody tr th:only-of-type {\n",
       "        vertical-align: middle;\n",
       "    }\n",
       "\n",
       "    .dataframe tbody tr th {\n",
       "        vertical-align: top;\n",
       "    }\n",
       "\n",
       "    .dataframe thead th {\n",
       "        text-align: right;\n",
       "    }\n",
       "</style>\n",
       "<table border=\"1\" class=\"dataframe\">\n",
       "  <thead>\n",
       "    <tr style=\"text-align: right;\">\n",
       "      <th></th>\n",
       "      <th>Unnamed: 0</th>\n",
       "      <th>quality</th>\n",
       "      <th>is_high_qual</th>\n",
       "      <th>vol_fixed_ratio</th>\n",
       "      <th>prop_citric_acid</th>\n",
       "      <th>sugar_acidity_ratio</th>\n",
       "      <th>sugar_acidity_interaction</th>\n",
       "      <th>chlor_acid_ratio</th>\n",
       "      <th>chlor_fixed_ratio</th>\n",
       "      <th>chlor_vol_ratio</th>\n",
       "      <th>...</th>\n",
       "      <th>volatile acidity</th>\n",
       "      <th>citric acid</th>\n",
       "      <th>residual sugar</th>\n",
       "      <th>chlorides</th>\n",
       "      <th>free sulfur dioxide</th>\n",
       "      <th>total sulfur dioxide</th>\n",
       "      <th>density</th>\n",
       "      <th>pH</th>\n",
       "      <th>sulphates</th>\n",
       "      <th>alcohol</th>\n",
       "    </tr>\n",
       "  </thead>\n",
       "  <tbody>\n",
       "    <tr>\n",
       "      <th>0</th>\n",
       "      <td>0</td>\n",
       "      <td>5</td>\n",
       "      <td>False</td>\n",
       "      <td>0.094595</td>\n",
       "      <td>0.000000</td>\n",
       "      <td>0.541311</td>\n",
       "      <td>6.669</td>\n",
       "      <td>0.021652</td>\n",
       "      <td>0.010270</td>\n",
       "      <td>0.108571</td>\n",
       "      <td>...</td>\n",
       "      <td>0.70</td>\n",
       "      <td>0.00</td>\n",
       "      <td>1.9</td>\n",
       "      <td>0.076</td>\n",
       "      <td>11.0</td>\n",
       "      <td>34.0</td>\n",
       "      <td>0.9978</td>\n",
       "      <td>3.51</td>\n",
       "      <td>0.56</td>\n",
       "      <td>9.4</td>\n",
       "    </tr>\n",
       "    <tr>\n",
       "      <th>1</th>\n",
       "      <td>1</td>\n",
       "      <td>5</td>\n",
       "      <td>False</td>\n",
       "      <td>0.112821</td>\n",
       "      <td>0.000000</td>\n",
       "      <td>0.812500</td>\n",
       "      <td>8.320</td>\n",
       "      <td>0.030625</td>\n",
       "      <td>0.012564</td>\n",
       "      <td>0.111364</td>\n",
       "      <td>...</td>\n",
       "      <td>0.88</td>\n",
       "      <td>0.00</td>\n",
       "      <td>2.6</td>\n",
       "      <td>0.098</td>\n",
       "      <td>25.0</td>\n",
       "      <td>67.0</td>\n",
       "      <td>0.9968</td>\n",
       "      <td>3.20</td>\n",
       "      <td>0.68</td>\n",
       "      <td>9.8</td>\n",
       "    </tr>\n",
       "    <tr>\n",
       "      <th>2</th>\n",
       "      <td>2</td>\n",
       "      <td>5</td>\n",
       "      <td>False</td>\n",
       "      <td>0.097436</td>\n",
       "      <td>0.005128</td>\n",
       "      <td>0.705521</td>\n",
       "      <td>7.498</td>\n",
       "      <td>0.028221</td>\n",
       "      <td>0.011795</td>\n",
       "      <td>0.121053</td>\n",
       "      <td>...</td>\n",
       "      <td>0.76</td>\n",
       "      <td>0.04</td>\n",
       "      <td>2.3</td>\n",
       "      <td>0.092</td>\n",
       "      <td>15.0</td>\n",
       "      <td>54.0</td>\n",
       "      <td>0.9970</td>\n",
       "      <td>3.26</td>\n",
       "      <td>0.65</td>\n",
       "      <td>9.8</td>\n",
       "    </tr>\n",
       "    <tr>\n",
       "      <th>3</th>\n",
       "      <td>3</td>\n",
       "      <td>6</td>\n",
       "      <td>True</td>\n",
       "      <td>0.025000</td>\n",
       "      <td>0.050000</td>\n",
       "      <td>0.601266</td>\n",
       "      <td>6.004</td>\n",
       "      <td>0.023734</td>\n",
       "      <td>0.006696</td>\n",
       "      <td>0.267857</td>\n",
       "      <td>...</td>\n",
       "      <td>0.28</td>\n",
       "      <td>0.56</td>\n",
       "      <td>1.9</td>\n",
       "      <td>0.075</td>\n",
       "      <td>17.0</td>\n",
       "      <td>60.0</td>\n",
       "      <td>0.9980</td>\n",
       "      <td>3.16</td>\n",
       "      <td>0.58</td>\n",
       "      <td>9.8</td>\n",
       "    </tr>\n",
       "    <tr>\n",
       "      <th>4</th>\n",
       "      <td>4</td>\n",
       "      <td>5</td>\n",
       "      <td>False</td>\n",
       "      <td>0.094595</td>\n",
       "      <td>0.000000</td>\n",
       "      <td>0.541311</td>\n",
       "      <td>6.669</td>\n",
       "      <td>0.021652</td>\n",
       "      <td>0.010270</td>\n",
       "      <td>0.108571</td>\n",
       "      <td>...</td>\n",
       "      <td>0.70</td>\n",
       "      <td>0.00</td>\n",
       "      <td>1.9</td>\n",
       "      <td>0.076</td>\n",
       "      <td>11.0</td>\n",
       "      <td>34.0</td>\n",
       "      <td>0.9978</td>\n",
       "      <td>3.51</td>\n",
       "      <td>0.56</td>\n",
       "      <td>9.4</td>\n",
       "    </tr>\n",
       "  </tbody>\n",
       "</table>\n",
       "<p>5 rows × 23 columns</p>\n",
       "</div>"
      ],
      "text/plain": [
       "   Unnamed: 0  quality  is_high_qual  vol_fixed_ratio  prop_citric_acid  \\\n",
       "0           0        5         False         0.094595          0.000000   \n",
       "1           1        5         False         0.112821          0.000000   \n",
       "2           2        5         False         0.097436          0.005128   \n",
       "3           3        6          True         0.025000          0.050000   \n",
       "4           4        5         False         0.094595          0.000000   \n",
       "\n",
       "   sugar_acidity_ratio  sugar_acidity_interaction  chlor_acid_ratio  \\\n",
       "0             0.541311                      6.669          0.021652   \n",
       "1             0.812500                      8.320          0.030625   \n",
       "2             0.705521                      7.498          0.028221   \n",
       "3             0.601266                      6.004          0.023734   \n",
       "4             0.541311                      6.669          0.021652   \n",
       "\n",
       "   chlor_fixed_ratio  chlor_vol_ratio  ...  volatile acidity  citric acid  \\\n",
       "0           0.010270         0.108571  ...              0.70         0.00   \n",
       "1           0.012564         0.111364  ...              0.88         0.00   \n",
       "2           0.011795         0.121053  ...              0.76         0.04   \n",
       "3           0.006696         0.267857  ...              0.28         0.56   \n",
       "4           0.010270         0.108571  ...              0.70         0.00   \n",
       "\n",
       "   residual sugar  chlorides  free sulfur dioxide  total sulfur dioxide  \\\n",
       "0             1.9      0.076                 11.0                  34.0   \n",
       "1             2.6      0.098                 25.0                  67.0   \n",
       "2             2.3      0.092                 15.0                  54.0   \n",
       "3             1.9      0.075                 17.0                  60.0   \n",
       "4             1.9      0.076                 11.0                  34.0   \n",
       "\n",
       "   density    pH  sulphates  alcohol  \n",
       "0   0.9978  3.51       0.56      9.4  \n",
       "1   0.9968  3.20       0.68      9.8  \n",
       "2   0.9970  3.26       0.65      9.8  \n",
       "3   0.9980  3.16       0.58      9.8  \n",
       "4   0.9978  3.51       0.56      9.4  \n",
       "\n",
       "[5 rows x 23 columns]"
      ]
     },
     "execution_count": 2,
     "metadata": {},
     "output_type": "execute_result"
    }
   ],
   "source": [
    "data = pd.read_csv('../data/processed/data_engineered_rizcallah_1122.csv')\n",
    "data.head()"
   ]
  },
  {
   "cell_type": "code",
   "execution_count": 3,
   "metadata": {},
   "outputs": [
    {
     "data": {
      "text/html": [
       "<div>\n",
       "<style scoped>\n",
       "    .dataframe tbody tr th:only-of-type {\n",
       "        vertical-align: middle;\n",
       "    }\n",
       "\n",
       "    .dataframe tbody tr th {\n",
       "        vertical-align: top;\n",
       "    }\n",
       "\n",
       "    .dataframe thead th {\n",
       "        text-align: right;\n",
       "    }\n",
       "</style>\n",
       "<table border=\"1\" class=\"dataframe\">\n",
       "  <thead>\n",
       "    <tr style=\"text-align: right;\">\n",
       "      <th></th>\n",
       "      <th>quality</th>\n",
       "      <th>is_high_qual</th>\n",
       "      <th>vol_fixed_ratio</th>\n",
       "      <th>prop_citric_acid</th>\n",
       "      <th>sugar_acidity_ratio</th>\n",
       "      <th>sugar_acidity_interaction</th>\n",
       "      <th>chlor_acid_ratio</th>\n",
       "      <th>chlor_fixed_ratio</th>\n",
       "      <th>chlor_vol_ratio</th>\n",
       "      <th>prop_free_sulfur</th>\n",
       "      <th>...</th>\n",
       "      <th>volatile acidity</th>\n",
       "      <th>citric acid</th>\n",
       "      <th>residual sugar</th>\n",
       "      <th>chlorides</th>\n",
       "      <th>free sulfur dioxide</th>\n",
       "      <th>total sulfur dioxide</th>\n",
       "      <th>density</th>\n",
       "      <th>pH</th>\n",
       "      <th>sulphates</th>\n",
       "      <th>alcohol</th>\n",
       "    </tr>\n",
       "  </thead>\n",
       "  <tbody>\n",
       "    <tr>\n",
       "      <th>0</th>\n",
       "      <td>5</td>\n",
       "      <td>False</td>\n",
       "      <td>0.094595</td>\n",
       "      <td>0.000000</td>\n",
       "      <td>0.541311</td>\n",
       "      <td>6.669</td>\n",
       "      <td>0.021652</td>\n",
       "      <td>0.010270</td>\n",
       "      <td>0.108571</td>\n",
       "      <td>0.323529</td>\n",
       "      <td>...</td>\n",
       "      <td>0.70</td>\n",
       "      <td>0.00</td>\n",
       "      <td>1.9</td>\n",
       "      <td>0.076</td>\n",
       "      <td>11.0</td>\n",
       "      <td>34.0</td>\n",
       "      <td>0.9978</td>\n",
       "      <td>3.51</td>\n",
       "      <td>0.56</td>\n",
       "      <td>9.4</td>\n",
       "    </tr>\n",
       "    <tr>\n",
       "      <th>1</th>\n",
       "      <td>5</td>\n",
       "      <td>False</td>\n",
       "      <td>0.112821</td>\n",
       "      <td>0.000000</td>\n",
       "      <td>0.812500</td>\n",
       "      <td>8.320</td>\n",
       "      <td>0.030625</td>\n",
       "      <td>0.012564</td>\n",
       "      <td>0.111364</td>\n",
       "      <td>0.373134</td>\n",
       "      <td>...</td>\n",
       "      <td>0.88</td>\n",
       "      <td>0.00</td>\n",
       "      <td>2.6</td>\n",
       "      <td>0.098</td>\n",
       "      <td>25.0</td>\n",
       "      <td>67.0</td>\n",
       "      <td>0.9968</td>\n",
       "      <td>3.20</td>\n",
       "      <td>0.68</td>\n",
       "      <td>9.8</td>\n",
       "    </tr>\n",
       "    <tr>\n",
       "      <th>2</th>\n",
       "      <td>5</td>\n",
       "      <td>False</td>\n",
       "      <td>0.097436</td>\n",
       "      <td>0.005128</td>\n",
       "      <td>0.705521</td>\n",
       "      <td>7.498</td>\n",
       "      <td>0.028221</td>\n",
       "      <td>0.011795</td>\n",
       "      <td>0.121053</td>\n",
       "      <td>0.277778</td>\n",
       "      <td>...</td>\n",
       "      <td>0.76</td>\n",
       "      <td>0.04</td>\n",
       "      <td>2.3</td>\n",
       "      <td>0.092</td>\n",
       "      <td>15.0</td>\n",
       "      <td>54.0</td>\n",
       "      <td>0.9970</td>\n",
       "      <td>3.26</td>\n",
       "      <td>0.65</td>\n",
       "      <td>9.8</td>\n",
       "    </tr>\n",
       "    <tr>\n",
       "      <th>3</th>\n",
       "      <td>6</td>\n",
       "      <td>True</td>\n",
       "      <td>0.025000</td>\n",
       "      <td>0.050000</td>\n",
       "      <td>0.601266</td>\n",
       "      <td>6.004</td>\n",
       "      <td>0.023734</td>\n",
       "      <td>0.006696</td>\n",
       "      <td>0.267857</td>\n",
       "      <td>0.283333</td>\n",
       "      <td>...</td>\n",
       "      <td>0.28</td>\n",
       "      <td>0.56</td>\n",
       "      <td>1.9</td>\n",
       "      <td>0.075</td>\n",
       "      <td>17.0</td>\n",
       "      <td>60.0</td>\n",
       "      <td>0.9980</td>\n",
       "      <td>3.16</td>\n",
       "      <td>0.58</td>\n",
       "      <td>9.8</td>\n",
       "    </tr>\n",
       "    <tr>\n",
       "      <th>4</th>\n",
       "      <td>5</td>\n",
       "      <td>False</td>\n",
       "      <td>0.094595</td>\n",
       "      <td>0.000000</td>\n",
       "      <td>0.541311</td>\n",
       "      <td>6.669</td>\n",
       "      <td>0.021652</td>\n",
       "      <td>0.010270</td>\n",
       "      <td>0.108571</td>\n",
       "      <td>0.323529</td>\n",
       "      <td>...</td>\n",
       "      <td>0.70</td>\n",
       "      <td>0.00</td>\n",
       "      <td>1.9</td>\n",
       "      <td>0.076</td>\n",
       "      <td>11.0</td>\n",
       "      <td>34.0</td>\n",
       "      <td>0.9978</td>\n",
       "      <td>3.51</td>\n",
       "      <td>0.56</td>\n",
       "      <td>9.4</td>\n",
       "    </tr>\n",
       "  </tbody>\n",
       "</table>\n",
       "<p>5 rows × 22 columns</p>\n",
       "</div>"
      ],
      "text/plain": [
       "   quality  is_high_qual  vol_fixed_ratio  prop_citric_acid  \\\n",
       "0        5         False         0.094595          0.000000   \n",
       "1        5         False         0.112821          0.000000   \n",
       "2        5         False         0.097436          0.005128   \n",
       "3        6          True         0.025000          0.050000   \n",
       "4        5         False         0.094595          0.000000   \n",
       "\n",
       "   sugar_acidity_ratio  sugar_acidity_interaction  chlor_acid_ratio  \\\n",
       "0             0.541311                      6.669          0.021652   \n",
       "1             0.812500                      8.320          0.030625   \n",
       "2             0.705521                      7.498          0.028221   \n",
       "3             0.601266                      6.004          0.023734   \n",
       "4             0.541311                      6.669          0.021652   \n",
       "\n",
       "   chlor_fixed_ratio  chlor_vol_ratio  prop_free_sulfur  ...  \\\n",
       "0           0.010270         0.108571          0.323529  ...   \n",
       "1           0.012564         0.111364          0.373134  ...   \n",
       "2           0.011795         0.121053          0.277778  ...   \n",
       "3           0.006696         0.267857          0.283333  ...   \n",
       "4           0.010270         0.108571          0.323529  ...   \n",
       "\n",
       "   volatile acidity  citric acid  residual sugar  chlorides  \\\n",
       "0              0.70         0.00             1.9      0.076   \n",
       "1              0.88         0.00             2.6      0.098   \n",
       "2              0.76         0.04             2.3      0.092   \n",
       "3              0.28         0.56             1.9      0.075   \n",
       "4              0.70         0.00             1.9      0.076   \n",
       "\n",
       "   free sulfur dioxide  total sulfur dioxide  density    pH  sulphates  \\\n",
       "0                 11.0                  34.0   0.9978  3.51       0.56   \n",
       "1                 25.0                  67.0   0.9968  3.20       0.68   \n",
       "2                 15.0                  54.0   0.9970  3.26       0.65   \n",
       "3                 17.0                  60.0   0.9980  3.16       0.58   \n",
       "4                 11.0                  34.0   0.9978  3.51       0.56   \n",
       "\n",
       "   alcohol  \n",
       "0      9.4  \n",
       "1      9.8  \n",
       "2      9.8  \n",
       "3      9.8  \n",
       "4      9.4  \n",
       "\n",
       "[5 rows x 22 columns]"
      ]
     },
     "execution_count": 3,
     "metadata": {},
     "output_type": "execute_result"
    }
   ],
   "source": [
    "data.drop('Unnamed: 0', axis=1, inplace=True)\n",
    "data.head()"
   ]
  },
  {
   "cell_type": "code",
   "execution_count": 4,
   "metadata": {},
   "outputs": [],
   "source": [
    "X_features = data.drop(['quality', 'is_high_qual'], axis=1)\n",
    "y_feature = data['quality']\n",
    "\n",
    "pca = PCA(n_components=10)\n",
    "scaler = StandardScaler()\n",
    "\n",
    "X_scaled = scaler.fit_transform(X_features)\n",
    "X_pca = pca.fit_transform(X_scaled)\n"
   ]
  },
  {
   "cell_type": "code",
   "execution_count": 5,
   "metadata": {},
   "outputs": [
    {
     "data": {
      "text/plain": [
       "[<matplotlib.lines.Line2D at 0x7fae414ed2b0>]"
      ]
     },
     "execution_count": 5,
     "metadata": {},
     "output_type": "execute_result"
    },
    {
     "data": {
      "image/png": "[encoded data removed]",
      "text/plain": [
       "<Figure size 432x288 with 1 Axes>"
      ]
     },
     "metadata": {
      "needs_background": "light"
     },
     "output_type": "display_data"
    }
   ],
   "source": [
    "tot_var_exp = np.cumsum(pca.explained_variance_ratio_)\n",
    "plt.plot(tot_var_exp)"
   ]
  },
  {
   "cell_type": "code",
   "execution_count": 6,
   "metadata": {},
   "outputs": [],
   "source": [
    "np.random.seed(42)\n",
    "X_train, X_test, y_train, y_test = train_test_split(X_pca, y_feature, test_size = 0.2)\n",
    "\n",
    "svr = SVR(kernel='linear')\n",
    "\n",
    "mod_lin = svr.fit(X_train, y_train)"
   ]
  },
  {
   "cell_type": "code",
   "execution_count": 7,
   "metadata": {},
   "outputs": [
    {
     "data": {
      "text/plain": [
       "0.575"
      ]
     },
     "execution_count": 7,
     "metadata": {},
     "output_type": "execute_result"
    }
   ],
   "source": [
    "pred = mod_lin.predict(X_test)\n",
    "pred_rounded = pred.round()\n",
    "accuracy_score(pred_rounded, y_test)"
   ]
  },
  {
   "cell_type": "code",
   "execution_count": 8,
   "metadata": {},
   "outputs": [
    {
     "data": {
      "text/plain": [
       "0.621875"
      ]
     },
     "execution_count": 8,
     "metadata": {},
     "output_type": "execute_result"
    }
   ],
   "source": [
    "svr_rbf = SVR(kernel='rbf')\n",
    "mod_rbf = svr_rbf.fit(X_train, y_train)\n",
    "\n",
    "pred_rbf = mod_rbf.predict(X_test)\n",
    "pred_rbf_rounded = pred_rbf.round()\n",
    "accuracy_score(pred_rbf_rounded, y_test)"
   ]
  },
  {
   "cell_type": "code",
   "execution_count": 33,
   "metadata": {},
   "outputs": [
    {
     "name": "stdout",
     "output_type": "stream",
     "text": [
      "The MSE for the SVR with RBF Kernel is:  0.34341787695189796\n",
      "The RMSE for the SVR with RBF Kernel is:  0.5860186660439222\n",
      "The MAE for the SVR with RBF Kernel is:  0.4467683395583319\n",
      "The Maximum Error for the SVR with RBF Kernel is:  2.1641176680416194\n"
     ]
    },
    {
     "data": {
      "image/png": "[encoded data removed]",
      "text/plain": [
       "<Figure size 432x288 with 1 Axes>"
      ]
     },
     "metadata": {
      "needs_background": "light"
     },
     "output_type": "display_data"
    }
   ],
   "source": [
    "mse = ((pred_rbf - y_test)**2).mean()\n",
    "print(\"The MSE for the SVR with RBF Kernel is: \", mse)\n",
    "rmse = np.sqrt(mse)\n",
    "print(\"The RMSE for the SVR with RBF Kernel is: \", rmse)\n",
    "mae = np.abs((pred_rbf - y_test)).mean()\n",
    "print(\"The MAE for the SVR with RBF Kernel is: \", mae)\n",
    "\n",
    "max_err = np.max(np.abs(pred_rbf-y_test))\n",
    "print(\"The Maximum Error for the SVR with RBF Kernel is: \", max_err)\n",
    "err = pred_rbf - y_test\n",
    "#sns.scatterplot(x=range(len(err)), y=err)\n",
    "res_plot= sns.scatterplot(x=y_test, y=err)\n",
    "plt.xlabel('actual')\n",
    "plt.ylabel('error')\n",
    "plt.title('Systematic Error in Residuals (SVR)')\n",
    "plt.savefig('res_plot_svr.png')\n",
    "plt.show()\n",
    "\n"
   ]
  },
  {
   "cell_type": "code",
   "execution_count": 94,
   "metadata": {},
   "outputs": [
    {
     "data": {
      "text/plain": [
       "0.553125"
      ]
     },
     "execution_count": 94,
     "metadata": {},
     "output_type": "execute_result"
    }
   ],
   "source": [
    "svr_poly = SVR(kernel='poly', degree=5)\n",
    "mod_poly = svr_poly.fit(X_train, y_train)\n",
    "\n",
    "pred_poly = mod_poly.predict(X_test)\n",
    "pred_poly_rounded = pred_poly.round()\n",
    "accuracy_score(pred_poly_rounded, y_test)"
   ]
  },
  {
   "cell_type": "code",
   "execution_count": 101,
   "metadata": {},
   "outputs": [
    {
     "data": {
      "text/plain": [
       "0.10625"
      ]
     },
     "execution_count": 101,
     "metadata": {},
     "output_type": "execute_result"
    }
   ],
   "source": [
    "svr_sigmoid = SVR(kernel='sigmoid', coef0=0.01)\n",
    "mod_sigmoid = svr_sigmoid.fit(X_train, y_train)\n",
    "\n",
    "pred_sigmoid = mod_sigmoid.predict(X_test)\n",
    "pred_sigmoid_rounded = pred_sigmoid.round()\n",
    "accuracy_score(pred_sigmoid_rounded, y_test)"
   ]
  },
  {
   "cell_type": "code",
   "execution_count": 103,
   "metadata": {},
   "outputs": [
    {
     "data": {
      "text/plain": [
       "0.546875"
      ]
     },
     "execution_count": 103,
     "metadata": {},
     "output_type": "execute_result"
    }
   ],
   "source": []
  },
  {
   "cell_type": "code",
   "execution_count": 107,
   "metadata": {},
   "outputs": [
    {
     "name": "stdout",
     "output_type": "stream",
     "text": [
      "0.415625\n"
     ]
    }
   ],
   "source": [
    "from sklearn.linear_model import ElasticNet\n",
    "\n",
    "base_model = ElasticNet()\n",
    "base_model.fit(X_train, y_train)\n",
    "\n",
    "pred_base = base_model.predict(X_test)\n",
    "pred_base_rounded = pred_base.round()\n",
    "base_acc = accuracy_score(pred_base_rounded, y_test)\n",
    "print(base_acc)"
   ]
  },
  {
   "cell_type": "code",
   "execution_count": null,
   "metadata": {},
   "outputs": [],
   "source": []
  }
 ],
 "metadata": {
  "kernelspec": {
   "display_name": "Python 3",
   "language": "python",
   "name": "python3"
  },
  "language_info": {
   "codemirror_mode": {
    "name": "ipython",
    "version": 3
   },
   "file_extension": ".py",
   "mimetype": "text/x-python",
   "name": "python",
   "nbconvert_exporter": "python",
   "pygments_lexer": "ipython3",
   "version": "3.8.3"
  }
 },
 "nbformat": 4,
 "nbformat_minor": 4
}
