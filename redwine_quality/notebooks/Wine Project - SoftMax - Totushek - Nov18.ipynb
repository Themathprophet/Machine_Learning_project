{
 "cells": [
  {
   "cell_type": "code",
   "execution_count": 335,
   "metadata": {},
   "outputs": [],
   "source": [
    "#Import all the libraries\n",
    "import numpy as np\n",
    "import pandas as pd\n",
    "import matplotlib.pyplot as plt\n",
    "plt.rcParams['figure.figsize'] = [12, 8]\n",
    "import seaborn as sns\n",
    "import os\n",
    "wineData = pd.read_csv(\"winequality-red.csv\")\n",
    "import warnings\n",
    "from sklearn.exceptions import ConvergenceWarning\n",
    "warnings.filterwarnings(\"ignore\", category=ConvergenceWarning,\n",
    "                            module=\"sklearn\")\n",
    "\n"
   ]
  },
  {
   "cell_type": "code",
   "execution_count": 336,
   "metadata": {},
   "outputs": [],
   "source": [
    "y = wineData['quality']\n",
    "wineData.drop(['quality'], axis=1, inplace=True)\n",
    "X = wineData\n",
    "from sklearn.model_selection import train_test_split\n",
    "XTrain, XValid, yTrain, yValid = train_test_split(X, y, \n",
    "                test_size = 0.30, random_state = 4)"
   ]
  },
  {
   "cell_type": "code",
   "execution_count": 337,
   "metadata": {},
   "outputs": [],
   "source": [
    "from sklearn.pipeline import Pipeline\n",
    "from sklearn.preprocessing import PolynomialFeatures\n",
    "from sklearn.linear_model import LogisticRegression\n",
    "from sklearn.model_selection import GridSearchCV"
   ]
  },
  {
   "cell_type": "code",
   "execution_count": 338,
   "metadata": {},
   "outputs": [],
   "source": [
    "#https://scikit-learn.org/stable/auto_examples/preprocessing/plot_all_scaling.html\n",
    "from sklearn.preprocessing import MinMaxScaler\n",
    "#default, .62083, feature_range(0, 100) .62708\n",
    "from sklearn.preprocessing import MaxAbsScaler\n",
    "#default, .5916\n",
    "from sklearn.preprocessing import StandardScaler\n",
    "#default, .61875\n",
    "from sklearn.preprocessing import RobustScaler\n",
    "#default .57083\n",
    "from sklearn.preprocessing import Normalizer\n",
    "#default .58541\n",
    "from sklearn.preprocessing import QuantileTransformer\n",
    "#default .61041\n",
    "from sklearn.preprocessing import PowerTransformer\n",
    "#default .60208"
   ]
  },
  {
   "cell_type": "code",
   "execution_count": 339,
   "metadata": {},
   "outputs": [],
   "source": [
    "modelOne = Pipeline([\n",
    "    ('scaler', MinMaxScaler(feature_range=(0, 100), copy='true')),\n",
    "    ('poly', PolynomialFeatures(degree=2)),\n",
    "    ('LRmodel', LogisticRegression(multi_class='multinomial', C=10000, solver='sag'))   \n",
    "])"
   ]
  },
  {
   "cell_type": "markdown",
   "metadata": {},
   "source": [
    "Things to test:\n",
    "'LRmodel__penalty': ['l1', 'l2', 'elasticnet'],\n",
    "'LRmodel__solver': ['newton-cg', 'sag', 'saga', 'lbfgs'],"
   ]
  },
  {
   "cell_type": "code",
   "execution_count": 340,
   "metadata": {},
   "outputs": [],
   "source": [
    "hyperGrid = {\n",
    "    \n",
    "}"
   ]
  },
  {
   "cell_type": "code",
   "execution_count": 341,
   "metadata": {},
   "outputs": [],
   "source": [
    "GridS=GridSearchCV(modelOne,hyperGrid,cv=5)\n",
    "GridSearch = GridS.fit(XTrain,yTrain)\n",
    "yPredict = GridS.predict(XValid)"
   ]
  },
  {
   "cell_type": "code",
   "execution_count": 342,
   "metadata": {},
   "outputs": [
    {
     "data": {
      "text/plain": [
       "0.6270833333333333"
      ]
     },
     "execution_count": 342,
     "metadata": {},
     "output_type": "execute_result"
    }
   ],
   "source": [
    "from sklearn.metrics import accuracy_score\n",
    "accuracy_score(yValid,GridS.predict(XValid))"
   ]
  },
  {
   "cell_type": "code",
   "execution_count": 343,
   "metadata": {},
   "outputs": [
    {
     "name": "stdout",
     "output_type": "stream",
     "text": [
      "{}\n"
     ]
    }
   ],
   "source": [
    "print(GridSearch.best_params_)"
   ]
  },
  {
   "cell_type": "code",
   "execution_count": null,
   "metadata": {},
   "outputs": [],
   "source": []
  }
 ],
 "metadata": {
  "kernelspec": {
   "display_name": "Python 3",
   "language": "python",
   "name": "python3"
  },
  "language_info": {
   "codemirror_mode": {
    "name": "ipython",
    "version": 3
   },
   "file_extension": ".py",
   "mimetype": "text/x-python",
   "name": "python",
   "nbconvert_exporter": "python",
   "pygments_lexer": "ipython3",
   "version": "3.8.3"
  }
 },
 "nbformat": 4,
 "nbformat_minor": 4
}
