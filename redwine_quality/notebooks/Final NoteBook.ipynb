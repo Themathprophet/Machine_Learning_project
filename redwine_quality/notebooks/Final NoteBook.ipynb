{
 "cells": [
  {
   "cell_type": "code",
   "execution_count": 746,
   "metadata": {},
   "outputs": [],
   "source": [
    "# Import the packages\n",
    "import numpy as np\n",
    "import pandas as pd\n",
    "import matplotlib.pyplot as plt\n",
    "import seaborn as sns\n",
    "# Import the data\n",
    "data_in = pd.read_csv(\"winequality-red.csv\")\n",
    "Random_state=42"
   ]
  },
  {
   "cell_type": "markdown",
   "metadata": {},
   "source": [
    "## Description of features:\n",
    "\n",
    "* Fixed acidity: Acidity is the main source of the taste of wine. Fixed acids are the acids that are definitely supposed to be there. High fixed acidity makes for a stronger-tasting wine. Recently, wines with lower acidity and a more balanced, subtle flavor have been getting the best reviews.\n",
    "\n",
    "* Volatile acidity: This kind of acidity may or may not be purposeful. These acids include naturally occuring vinegar (which apparently is sometimes a good thing) and ethyl acetate (nail polish remover) that is not a good thing.\n",
    "\n",
    "* Residual sugar: Residual sugar of course indicates sweetness. In the US, sugar is sometimes added after fermentation to make wine sweeter, but this is not a common practice in other countries. It is actually illegal in some places. However, most sugar is added BEFORE fermentation so that the yeast and bacteria can do a better job. When the fermentation process is stopped prematurely, there will be a lot of residual sugar left over. Cheap wines tend to have high sugar content.\n",
    "\n",
    "* Chloride: Neutralizes acid. This might be used to rein in volatile acidity. It naturally comes from the grapes and the soil in which they are grown. Higher chloride count means the grape juice spent more time in contact with the skins and seeds and stems of the grapes. Chloride can also lead to a salty flavor in the wine. French soil naturally has a low chloride count. Then the USA, then South Africe, then Chile, Argentina, and Australia. Australia has some major variation in soil chloride content.\n",
    "\n",
    "* Sulfur Dioxide: There is a new movement in wine-making to avoid adding sulfur dioxide. It was originally started as a way to prevent oxidation and microbrial infection of wine, a preservative. However, it also makes the wine more consistent. Free sulfur dioxide can create a bitter, metallic flavor, and so it is often filtered out.\n",
    "\n",
    "* Density: This is used to measure the alcohol content of wine. The simple formula to get the alcohol content from the change in wine density is: $Alc = \\frac{D_0 - D_f}{7.362}$\n",
    "\n",
    "* PH: The total acidity of the wine. Lower $\\implies$ stronger tasting, Higher $\\implies$ softer finish.\n",
    "\n",
    "* Sulphates: Sulfur-related waste. This is where the added sulfur dioxide attaches to things and creates some pretty gross-sounding compounds. These chemicals are often found in dish soap, epsom salts, and household cleaners. However, they are also used by beer makers as Brewer's Gypsum, to fix problems with water-quality.\n",
    "\n",
    "* Alcohol: High alcohol $\\implies$ bold flavor, low alcohol $\\implies$ lighter body. "
   ]
  },
  {
   "cell_type": "markdown",
   "metadata": {},
   "source": [
    "Engineered Features:\n",
    "\n",
    "* **vol_fixed_ratio** is the ratio of volatile acids to fixed acids, $\\frac{VA}{FA}$\n",
    "\n",
    "* **prop_citric_acid** is the proportion of fixed acid that is citric acid, $\\frac{CA}{FA}$\n",
    "\n",
    "* **sugar_acidity_ratio** is the ratio of residual sugar to ph, $\\frac{sugar}{ph}$, **sugar_acidity_interaction** is the residual sugar times the ph, $sugar\\times ph$\n",
    "\n",
    "* **chlor_acid_ratio** is the ratio of chlorides to ph, $\\frac{chlor}{ph}$, **chlor_fixed_ratio** is the ratio of chlorides to fixed acidity, $\\frac{chlor}{FA}$, **chlor_vol_ratio** is the ratio of chlorides to volatile acidity, $\\frac{chlor}{VA}$\n",
    "\n",
    "* **prop_free_sulfur** is the proportion of sulfur dioxide that is free, $\\frac{FSO_2}{TSO_2}$\n",
    "\n",
    "* **starting_density** is the density of the grape juice before fermentation, $SD = \\frac{(Alc\\times 7.362 + (density\\times 1000)}{1000}$\n"
   ]
  },
  {
   "cell_type": "code",
   "execution_count": 747,
   "metadata": {},
   "outputs": [],
   "source": [
    "data_in['vol_fixed_ratio'] = data_in['volatile acidity'] / data_in['fixed acidity']\n",
    "data_in['prop_citric_acid'] = data_in['citric acid'] / data_in['fixed acidity']\n",
    "data_in['sugar_acidity_ratio'] = data_in['residual sugar'] / data_in['pH']\n",
    "data_in['sugar_acidity_interaction'] = data_in['residual sugar'] * data_in['pH']\n",
    "data_in['chlor_acid_ratio'] = data_in['chlorides'] / data_in['pH']\n",
    "data_in['chlor_fixed_ratio'] = data_in['chlorides'] / data_in['fixed acidity']\n",
    "data_in['chlor_vol_ratio'] = data_in['chlorides'] / data_in['volatile acidity']\n",
    "data_in['prop_free_sulfur'] = data_in['free sulfur dioxide'] / data_in['total sulfur dioxide']\n",
    "data_in['starting_density'] = (data_in['alcohol']*7.362 + data_in['density']*1000)/1000"
   ]
  },
  {
   "cell_type": "code",
   "execution_count": 748,
   "metadata": {},
   "outputs": [],
   "source": [
    "y=data_in['quality']\n",
    "X=data_in.drop(['quality'], axis=1)"
   ]
  },
  {
   "cell_type": "code",
   "execution_count": 749,
   "metadata": {},
   "outputs": [],
   "source": [
    "from sklearn.model_selection import train_test_split\n",
    "XTrain, XTest, yTrain, yTest = train_test_split(X, y, test_size = 0.25)"
   ]
  },
  {
   "cell_type": "code",
   "execution_count": 750,
   "metadata": {},
   "outputs": [],
   "source": [
    "from sklearn.pipeline import Pipeline\n",
    "from sklearn.preprocessing import PolynomialFeatures\n",
    "from sklearn.svm import SVC\n",
    "from sklearn.decomposition import PCA\n",
    "from sklearn.model_selection import GridSearchCV\n",
    "from sklearn.preprocessing import MinMaxScaler\n",
    "from sklearn.preprocessing import MaxAbsScaler\n",
    "from sklearn.preprocessing import StandardScaler\n",
    "from sklearn.preprocessing import RobustScaler\n",
    "from sklearn.preprocessing import Normalizer\n",
    "from sklearn.preprocessing import QuantileTransformer\n",
    "from sklearn.preprocessing import PowerTransformer\n",
    "from sklearn.feature_selection import SelectKBest\n",
    "from sklearn.feature_selection import chi2"
   ]
  },
  {
   "cell_type": "code",
   "execution_count": 751,
   "metadata": {},
   "outputs": [],
   "source": [
    "modelOne = Pipeline([\n",
    "    ('scaler', MinMaxScaler()),\n",
    "    ('kbest', SelectKBest(chi2, k=11)),\n",
    "    ('pca', PCA(n_components=10, whiten=True)),\n",
    "    ('poly', PolynomialFeatures(degree=2)),\n",
    "    ('svc', SVC(C= 10, decision_function_shape='ovo', kernel='poly', degree=3, coef0=1))   \n",
    "])"
   ]
  },
  {
   "cell_type": "code",
   "execution_count": 752,
   "metadata": {},
   "outputs": [],
   "source": [
    "hyperGrid = {\n",
    "    #'kbest__k':[10, 11, 12, 13],\n",
    "    #'pca__n_components': [5, 10, 15],\n",
    "    #'svc__kernel':['linear', 'poly', 'rbf', 'sigmoid'],\n",
    "    #'svc__gamma':['auto', 'scale'],\n",
    "    #'svc__degree': [3, 4, 5],\n",
    "    #'svc__coef0': [0, 1]\n",
    "}"
   ]
  },
  {
   "cell_type": "code",
   "execution_count": 753,
   "metadata": {},
   "outputs": [],
   "source": [
    "GridS=GridSearchCV(modelOne,hyperGrid,cv=5)\n",
    "GridSearch = GridS.fit(XTrain,yTrain)\n",
    "yPredict = GridS.predict(XTrain)"
   ]
  },
  {
   "cell_type": "code",
   "execution_count": 754,
   "metadata": {},
   "outputs": [
    {
     "name": "stdout",
     "output_type": "stream",
     "text": [
      "0.8766031876096634\n"
     ]
    }
   ],
   "source": [
    "from sklearn.metrics import f1_score\n",
    "yPredict = GridS.predict(XTrain)\n",
    "print(f1_score(yTrain, yPredict, average='weighted'))"
   ]
  },
  {
   "cell_type": "code",
   "execution_count": 755,
   "metadata": {},
   "outputs": [
    {
     "name": "stdout",
     "output_type": "stream",
     "text": [
      "{'kbest__k': 11}\n",
      "              precision    recall  f1-score   support\n",
      "\n",
      "           3       1.00      0.88      0.93         8\n",
      "           4       1.00      0.78      0.88        36\n",
      "           5       0.89      0.88      0.89       505\n",
      "           6       0.83      0.90      0.86       484\n",
      "           7       0.94      0.84      0.89       150\n",
      "           8       1.00      0.62      0.77        16\n",
      "\n",
      "    accuracy                           0.88      1199\n",
      "   macro avg       0.94      0.82      0.87      1199\n",
      "weighted avg       0.88      0.88      0.88      1199\n",
      "\n"
     ]
    }
   ],
   "source": [
    "#print(GridSearch.best_params_)\n",
    "from sklearn.metrics import classification_report\n",
    "print(classification_report(yTrain, yPredict, target_names=['3', '4', '5', '6', '7', '8']))"
   ]
  },
  {
   "cell_type": "code",
   "execution_count": 756,
   "metadata": {},
   "outputs": [
    {
     "name": "stdout",
     "output_type": "stream",
     "text": [
      "              precision    recall  f1-score   support\n",
      "\n",
      "           3       0.00      0.00      0.00         2\n",
      "           4       0.27      0.18      0.21        17\n",
      "           5       0.72      0.78      0.75       176\n",
      "           6       0.63      0.64      0.64       154\n",
      "           7       0.54      0.43      0.48        49\n",
      "           8       0.00      0.00      0.00         2\n",
      "\n",
      "    accuracy                           0.65       400\n",
      "   macro avg       0.36      0.34      0.35       400\n",
      "weighted avg       0.64      0.65      0.64       400\n",
      "\n"
     ]
    },
    {
     "name": "stderr",
     "output_type": "stream",
     "text": [
      "/opt/anaconda3/lib/python3.8/site-packages/sklearn/metrics/_classification.py:1221: UndefinedMetricWarning: Precision and F-score are ill-defined and being set to 0.0 in labels with no predicted samples. Use `zero_division` parameter to control this behavior.\n",
      "  _warn_prf(average, modifier, msg_start, len(result))\n"
     ]
    }
   ],
   "source": [
    "from sklearn.metrics import classification_report\n",
    "yPredict = GridS.predict(XTest)\n",
    "#print(classification_report(y, yPredict))\n",
    "print(classification_report(yTest, yPredict))"
   ]
  },
  {
   "cell_type": "code",
   "execution_count": 757,
   "metadata": {},
   "outputs": [
    {
     "data": {
      "text/plain": [
       "<sklearn.metrics._plot.confusion_matrix.ConfusionMatrixDisplay at 0x11f2a3cd0>"
      ]
     },
     "execution_count": 757,
     "metadata": {},
     "output_type": "execute_result"
    },
    {
     "data": {
      "image/png": "[encoded data removed]",
      "text/plain": [
       "<Figure size 432x288 with 2 Axes>"
      ]
     },
     "metadata": {
      "needs_background": "light"
     },
     "output_type": "display_data"
    }
   ],
   "source": [
    "from sklearn.metrics import confusion_matrix\n",
    "from sklearn.metrics import plot_confusion_matrix\n",
    "plot_confusion_matrix(GridSearch,X, y)"
   ]
  },
  {
   "cell_type": "code",
   "execution_count": 758,
   "metadata": {},
   "outputs": [
    {
     "data": {
      "text/plain": [
       "<sklearn.metrics._plot.confusion_matrix.ConfusionMatrixDisplay at 0x11f2b0b80>"
      ]
     },
     "execution_count": 758,
     "metadata": {},
     "output_type": "execute_result"
    },
    {
     "data": {
      "image/png": "[encoded data removed]",
      "text/plain": [
       "<Figure size 432x288 with 2 Axes>"
      ]
     },
     "metadata": {
      "needs_background": "light"
     },
     "output_type": "display_data"
    }
   ],
   "source": [
    "plot_confusion_matrix(GridSearch,XTest, yTest)"
   ]
  },
  {
   "cell_type": "code",
   "execution_count": 770,
   "metadata": {},
   "outputs": [
    {
     "name": "stdout",
     "output_type": "stream",
     "text": [
      "Training data 0.9384746343935989\n",
      "Test data 0.8327611910787724\n"
     ]
    }
   ],
   "source": [
    "data_in = pd.read_csv(\"winequality-red.csv\")\n",
    "data_in['vol_fixed_ratio'] = data_in['volatile acidity'] / data_in['fixed acidity']\n",
    "data_in['prop_citric_acid'] = data_in['citric acid'] / data_in['fixed acidity']\n",
    "data_in['sugar_acidity_ratio'] = data_in['residual sugar'] / data_in['pH']\n",
    "data_in['sugar_acidity_interaction'] = data_in['residual sugar'] * data_in['pH']\n",
    "data_in['chlor_acid_ratio'] = data_in['chlorides'] / data_in['pH']\n",
    "data_in['chlor_fixed_ratio'] = data_in['chlorides'] / data_in['fixed acidity']\n",
    "data_in['chlor_vol_ratio'] = data_in['chlorides'] / data_in['volatile acidity']\n",
    "data_in['prop_free_sulfur'] = data_in['free sulfur dioxide'] / data_in['total sulfur dioxide']\n",
    "data_in['starting_density'] = (data_in['alcohol']*7.362 + data_in['density']*1000)/1000\n",
    "y=data_in['quality']\n",
    "yBin=np.floor((y - 3) / 2)\n",
    "X=data_in.drop(['quality'], axis=1)\n",
    "XTrain, XTest, yTrain, yTest = train_test_split(X, yBin, test_size = 0.25)\n",
    "modelOne = Pipeline([\n",
    "    ('scaler', MinMaxScaler()),\n",
    "    ('kbest', SelectKBest(chi2, k=11)),\n",
    "    ('pca', PCA(n_components=10, whiten=True)),\n",
    "    ('poly', PolynomialFeatures(degree=2)),\n",
    "    ('svc', SVC(C= 10, decision_function_shape='ovo', kernel='poly', degree=3, coef0=1))   \n",
    "])\n",
    "GridS=GridSearchCV(modelOne,hyperGrid,cv=5)\n",
    "GridSearch = GridS.fit(XTrain,yTrain)\n",
    "yPredictTrain = GridS.predict(XTrain)\n",
    "yPredictTest = GridS.predict(XTest)\n",
    "from sklearn.metrics import f1_score\n",
    "yPredict = GridS.predict(XTest)\n",
    "print(\"Training data\", f1_score(yTrain, yPredictTrain, average='weighted'))\n",
    "print(\"Test data\", f1_score(yTest, yPredictTest, average='weighted'))"
   ]
  },
  {
   "cell_type": "code",
   "execution_count": 771,
   "metadata": {},
   "outputs": [
    {
     "data": {
      "text/plain": [
       "<sklearn.metrics._plot.confusion_matrix.ConfusionMatrixDisplay at 0x11ed263a0>"
      ]
     },
     "execution_count": 771,
     "metadata": {},
     "output_type": "execute_result"
    },
    {
     "data": {
      "image/png": "[encoded data removed]",
      "text/plain": [
       "<Figure size 432x288 with 2 Axes>"
      ]
     },
     "metadata": {
      "needs_background": "light"
     },
     "output_type": "display_data"
    }
   ],
   "source": [
    "plot_confusion_matrix(GridSearch,XTest, yTest)"
   ]
  },
  {
   "cell_type": "code",
   "execution_count": 772,
   "metadata": {},
   "outputs": [
    {
     "name": "stdout",
     "output_type": "stream",
     "text": [
      "Training data 0.8012215095982255\n",
      "Test data 0.6571709180411712\n"
     ]
    }
   ],
   "source": [
    "data_in = pd.read_csv(\"winequality-red-tom.csv\")\n",
    "data_in['vol_fixed_ratio'] = data_in['volatile acidity'] / data_in['fixed acidity']\n",
    "data_in['prop_citric_acid'] = data_in['citric acid'] / data_in['fixed acidity']\n",
    "data_in['sugar_acidity_ratio'] = data_in['residual sugar'] / data_in['pH']\n",
    "data_in['sugar_acidity_interaction'] = data_in['residual sugar'] * data_in['pH']\n",
    "data_in['chlor_acid_ratio'] = data_in['chlorides'] / data_in['pH']\n",
    "data_in['chlor_fixed_ratio'] = data_in['chlorides'] / data_in['fixed acidity']\n",
    "data_in['chlor_vol_ratio'] = data_in['chlorides'] / data_in['volatile acidity']\n",
    "data_in['prop_free_sulfur'] = data_in['free sulfur dioxide'] / data_in['total sulfur dioxide']\n",
    "data_in['starting_density'] = (data_in['alcohol']*7.362 + data_in['density']*1000)/1000\n",
    "y=data_in['quality']\n",
    "X=data_in.drop(['quality'], axis=1)\n",
    "XTrain, XTest, yTrain, yTest = train_test_split(X, y, test_size = 0.25)\n",
    "modelOne = Pipeline([\n",
    "    ('scaler', MinMaxScaler()),\n",
    "    ('kbest', SelectKBest(chi2, k=11)),\n",
    "    ('pca', PCA(n_components=10, whiten=True)),\n",
    "    ('poly', PolynomialFeatures(degree=2)),\n",
    "    ('svc', SVC(C= 10, decision_function_shape='ovo', kernel='poly', degree=3, coef0=1))   \n",
    "])\n",
    "GridS=GridSearchCV(modelOne,hyperGrid,cv=5)\n",
    "GridSearch = GridS.fit(XTrain,yTrain)\n",
    "yPredictTrain = GridS.predict(XTrain)\n",
    "yPredictTest = GridS.predict(XTest)\n",
    "from sklearn.metrics import f1_score\n",
    "yPredict = GridS.predict(XTest)\n",
    "print(\"Training data\", f1_score(yTrain, yPredictTrain, average='weighted'))\n",
    "print(\"Test data\", f1_score(yTest, yPredictTest, average='weighted'))"
   ]
  },
  {
   "cell_type": "code",
   "execution_count": 773,
   "metadata": {},
   "outputs": [
    {
     "data": {
      "text/plain": [
       "<sklearn.metrics._plot.confusion_matrix.ConfusionMatrixDisplay at 0x11fbe4460>"
      ]
     },
     "execution_count": 773,
     "metadata": {},
     "output_type": "execute_result"
    },
    {
     "data": {
      "image/png": "[encoded data removed]",
      "text/plain": [
       "<Figure size 432x288 with 2 Axes>"
      ]
     },
     "metadata": {
      "needs_background": "light"
     },
     "output_type": "display_data"
    }
   ],
   "source": [
    "plot_confusion_matrix(GridSearch,XTest, yTest)"
   ]
  },
  {
   "cell_type": "code",
   "execution_count": 790,
   "metadata": {},
   "outputs": [
    {
     "data": {
      "text/plain": [
       "<matplotlib.axes._subplots.AxesSubplot at 0x124256f10>"
      ]
     },
     "execution_count": 790,
     "metadata": {},
     "output_type": "execute_result"
    },
    {
     "data": {
      "image/png": "[encoded data removed]",
      "text/plain": [
       "<Figure size 432x288 with 1 Axes>"
      ]
     },
     "metadata": {
      "needs_background": "light"
     },
     "output_type": "display_data"
    }
   ],
   "source": [
    "data_in = pd.read_csv(\"winequality-red.csv\")\n",
    "y=data_in['quality']\n",
    "y.plot.hist(bins=6)"
   ]
  },
  {
   "cell_type": "code",
   "execution_count": null,
   "metadata": {},
   "outputs": [],
   "source": []
  }
 ],
 "metadata": {
  "kernelspec": {
   "display_name": "Python 3",
   "language": "python",
   "name": "python3"
  },
  "language_info": {
   "codemirror_mode": {
    "name": "ipython",
    "version": 3
   },
   "file_extension": ".py",
   "mimetype": "text/x-python",
   "name": "python",
   "nbconvert_exporter": "python",
   "pygments_lexer": "ipython3",
   "version": "3.8.3"
  }
 },
 "nbformat": 4,
 "nbformat_minor": 4
}
